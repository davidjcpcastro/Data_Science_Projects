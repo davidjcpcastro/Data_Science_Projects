{
 "cells": [
  {
   "cell_type": "markdown",
   "metadata": {},
   "source": [
    "# Big Data Modeling and Management Assigment - Homework 1"
   ]
  },
  {
   "cell_type": "markdown",
   "metadata": {},
   "source": [
    "## 🍺 The Beer project  🍺 \n",
    "\n",
    "As it was shown in classes, graph databases are a natural way of navegating distinct types of data. For this first project we will be taking a graph database to analyse beer and breweries!   \n",
    "\n",
    "_For reference the dataset used for this project has been extracted from [kaggle](https://www.kaggle.com/ehallmar/beers-breweries-and-beer-reviews), released by Evan Hallmark. Even though the author does not present metada on the origin of the data it is probably a collection of open data from places like [beeradvocate](https://www.beeradvocate.com/)_.\n",
    "\n",
    "### Problem description\n",
    "\n",
    "Explore the database via python neo4j connector and/or the graphical tool in the NEO4J webpage. Answer the questions. Submit the results by following the instructions\n",
    "\n",
    "\n",
    "### Questions\n",
    "\n",
    "1. How many different countries exist in the database?\n",
    "1. Most reviews:  \n",
    "    1. Which `Beer` has the most reviews?  \n",
    "    1. Which `Brewery` has the most reviews for its beers? [Hint: 5-node path]\n",
    "    1. Which `Country` has the most reviews for its beers? [Hint: 5-node path]\n",
    "1. Find the user/users that have the most shared reviews (reviews of the same beers) with the user CTJman?\n",
    "1. Which Portuguese brewery has the most beers?\n",
    "1. From those beers (the ones returned from the previous question), which has the most reviews?\n",
    "1. On average how many different beer styles does each brewery produce?\n",
    "1. Which brewery produces the strongest beers according to ABV? [Hint: database has NaN values]\n",
    "1. If I typically enjoy a beer due to its aroma and appearance, which beer style should I try? (Justify your answer well!) [Hint: database has NaN values]\n",
    "1. Using Graph Algorithms answer **one** of the following questions: [Hint: make sure to clear the graph before using it again]\n",
    "    1. Which two countries are most similiar when it comes to their **top 10** most produced Beer styles?\n",
    "    2. Which beer is the most influential when considering beers are conected by users who review them? [Please use limit of 1000 on beer-review-user path]]\n",
    "    3. Users are connected together by their reviews to beers, taking into consideration the \"overall\" score they review as a weight, how many communities are formed from these relationships? How many users has the biggest community? [Please use limit of 1000 on beer-review-user path]]\n",
    "1. Using Graph Algorithms answer **one** of the following questions:\n",
    "    1. Which beer has the most similar reviews as the beer `Super Bock Stout`? [Hint:inspect two subsets: with and without the beer in question]\n",
    "    2. Which user is the most influential when it comes to reviews made?\n",
    "1. If you had to pick 3 beers to recommend using only this database, which would you pick and why? (Justify your answer well!) [Hint: database has NaN values]\n",
    "\n",
    "\n",
    "Questions 8 to 10 are somewhat open, which means we'll also be evaluating the reasoning behind your answer. So there aren't necessarily bad results there are only wrong criteria, explanations or execution. \n",
    " \n",
    "### Groups  \n",
    "\n",
    "Groups should have 4 to 5 people.\n",
    "You should register your group on **moodle**.\n",
    "\n",
    "### Submission      \n",
    "\n",
    "The code used to produce the results and respective explations should be uploaded to moodle. They should have a clear reference to the group, either on the file name or on the document itself. Preferably one Jupyter notebook per group.\n",
    "\n",
    "Delivery date: Until the **midnight of March 13**\n",
    "\n",
    "### Evaluation   \n",
    "\n",
    "This will be 20% of the final grade.   \n",
    "Each solution will be evaluated on 2 components: correctness of results and simplicity of the solution.  \n",
    "All code will go through plagiarism automated checks. Groups with the same code will undergo investigation."
   ]
  },
  {
   "cell_type": "markdown",
   "metadata": {},
   "source": [
    "## Loading the Database\n",
    "\n",
    "#### Be sure that you **don't have** the neo4j docker container from the classes running (you can Stop it in the desktop app or with the command \"`docker stop Neo4JLab`\")\n",
    "\n",
    "\n",
    "The default container does not have any data whatsoever, we will have to load a database into our docker image:\n",
    "- Download and unzip the `Neo4JHWData` file provided in Moodle.\n",
    "- Copy the path of the `Neo4JHWData` folder of the unziped file, e.g. `C:\\Users\\Utente\\Desktop\\BDM&M\\Neo4JHWData/data`.\n",
    "- Download and unzip the `Neo4JPlugins` file provided in Moodle.\n",
    "- Copy the path of the `Neo4JPlugins` folder of the unziped file, e.g. `C:\\Users\\Utente\\Desktop\\BDM&M\\Neo4JPlugins`.\n",
    "- Change the code bellow accordingly. As you might have noticed, you do not have a user called `nunoa`, please use the appropriate path that you got from the previous step. Be sure that you have a neo4j docker container running: \\\n",
    "\n",
    "`docker run --name Neo4JHW -p 7474:7474 -p 7687:7687 -d -v \"C:\\Users\\Utente\\Desktop\\BDM&M\\Neo4JPlugins\":/plugins -v \"C:\\Users\\Utente\\Desktop\\BDM&M\\Neo4JHWData/data\":/data --env NEO4J_AUTH=neo4j/test --env NEO4J_dbms_connector_https_advertised__address=\"localhost:7473\" --env NEO4J_dbms_connector_http_advertised__address=\"localhost:7474\" --env NEO4J_dbms_connector_bolt_advertised__address=\"localhost:7687\" --env NEO4J_dbms_security_procedures_unrestricted=gds.* --env NEO4J_dbms_security_procedures_allowlist=gds.* neo4j:4.4.5`\n",
    "\n",
    "- Since Neo4j is trying to recognize a new database folder, this might take a bit (let's say 3 minutes), so don't worry."
   ]
  },
  {
   "cell_type": "code",
   "execution_count": 1,
   "metadata": {},
   "outputs": [],
   "source": [
    "from neo4j import GraphDatabase\n",
    "from pprint import pprint"
   ]
  },
  {
   "cell_type": "code",
   "execution_count": 2,
   "metadata": {},
   "outputs": [],
   "source": [
    "NEO4J_URI=\"neo4j://localhost:7687\"\n",
    "NEO4J_USERNAME=\"neo4j\"\n",
    "NEO4J_PASSWORD=\"test\""
   ]
  },
  {
   "cell_type": "code",
   "execution_count": 3,
   "metadata": {},
   "outputs": [],
   "source": [
    "driver = GraphDatabase.driver(NEO4J_URI, auth=(NEO4J_USERNAME, NEO4J_PASSWORD), )"
   ]
  },
  {
   "cell_type": "markdown",
   "metadata": {},
   "source": [
    "### All The Functions you'll need to run queries in Neo4J"
   ]
  },
  {
   "cell_type": "code",
   "execution_count": 4,
   "metadata": {},
   "outputs": [],
   "source": [
    "def execute_read(driver, query):    \n",
    "    with driver.session(database=\"neo4j\") as session:\n",
    "        result = session.execute_read(lambda tx, query: list(tx.run(query)), query)\n",
    "    return result"
   ]
  },
  {
   "cell_type": "code",
   "execution_count": null,
   "metadata": {},
   "outputs": [],
   "source": [
    "def execute_write(driver, query):\n",
    "    with driver.session(database=\"neo4j\") as session:\n",
    "        # Write transactions allow the driver to handle retries and transient errors\n",
    "        result = session.execute_write(lambda tx, query: list(tx.run(query)), query)\n",
    "    return result"
   ]
  },
  {
   "cell_type": "markdown",
   "metadata": {},
   "source": [
    "### Understanding the Database"
   ]
  },
  {
   "cell_type": "code",
   "execution_count": 5,
   "metadata": {},
   "outputs": [
    {
     "name": "stdout",
     "output_type": "stream",
     "text": [
      "[<Record label='COUNTRIES'>,\n",
      " <Record label='CITIES'>,\n",
      " <Record label='BREWERIES'>,\n",
      " <Record label='BEERS'>,\n",
      " <Record label='REVIEWS'>,\n",
      " <Record label='STYLE'>,\n",
      " <Record label='USER'>]\n"
     ]
    }
   ],
   "source": [
    "query = \"\"\"\n",
    "        call db.labels();\n",
    "    \"\"\"\n",
    "\n",
    "result = execute_read(driver, query)\n",
    "\n",
    "pprint(result)"
   ]
  },
  {
   "cell_type": "code",
   "execution_count": 6,
   "metadata": {},
   "outputs": [
    {
     "name": "stdout",
     "output_type": "stream",
     "text": [
      "[<Record relationshipType='REVIEWED'>,\n",
      " <Record relationshipType='BREWED'>,\n",
      " <Record relationshipType='IN'>,\n",
      " <Record relationshipType='HAS_STYLE'>,\n",
      " <Record relationshipType='POSTED'>]\n"
     ]
    }
   ],
   "source": [
    "query = \"\"\"\n",
    "        CALL db.relationshipTypes();\n",
    "    \"\"\"\n",
    "\n",
    "result = execute_read(driver, query)\n",
    "\n",
    "pprint(result)"
   ]
  },
  {
   "cell_type": "markdown",
   "metadata": {},
   "source": [
    "## Submission\n",
    "\n",
    "GROUP NUMBER:\n",
    "\n",
    "**GROUP 9**\n",
    "\n",
    "GROUP MEMBERS:\n",
    "\n",
    "|STUDENT NUMBER|STUDENT NAME|\n",
    "|---|---|\n",
    "|20220688|David Castro|\n",
    "|20220694|Francisco Freitas|\n",
    "|20220671|Denzel Basso|\n",
    "|20220556|Vasco Fontoura|"
   ]
  },
  {
   "cell_type": "markdown",
   "metadata": {},
   "source": [
    "#### 1. How many different countries exist in the database?"
   ]
  },
  {
   "cell_type": "code",
   "execution_count": 7,
   "metadata": {},
   "outputs": [
    {
     "name": "stdout",
     "output_type": "stream",
     "text": [
      "[<Record count(distinct r.name)=200>]\n"
     ]
    }
   ],
   "source": [
    "#There is 200 different countries in the database\n",
    "query = \"\"\"\n",
    "        MATCH (r:COUNTRIES) \n",
    "        RETURN count(distinct r.name) \n",
    "    \"\"\"\n",
    "\n",
    "result = execute_read(driver, query)\n",
    "\n",
    "pprint(result)"
   ]
  },
  {
   "cell_type": "markdown",
   "metadata": {},
   "source": [
    "#### 2. Most reviews:  \n",
    "    A) Which `Beer` has the most reviews?  \n",
    "    B) Which `Brewery` has the most reviews for its beers?\n",
    "    C) Which `Country` has the most reviews for its beers? "
   ]
  },
  {
   "cell_type": "code",
   "execution_count": 8,
   "metadata": {},
   "outputs": [
    {
     "name": "stdout",
     "output_type": "stream",
     "text": [
      "[<Record Name='IPA' Reviews=31387>]\n"
     ]
    }
   ],
   "source": [
    "# A)\n",
    "\n",
    "# Counting the number of relationships between beers and reviews we get the total number of reviews for each beer\n",
    "# After that, ordering the output by descending order and limiting it to one single line we get the beer with the most reviews\n",
    "\n",
    "query = \"\"\"\n",
    "        MATCH (b:BEERS)-[r:REVIEWED]->(r1:REVIEWS)\n",
    "        RETURN b.name as Name, count(r) as Reviews\n",
    "        ORDER BY Reviews DESC\n",
    "        LIMIT 1\n",
    "    \"\"\"\n",
    "\n",
    "result = execute_read(driver, query)\n",
    "\n",
    "pprint(result)"
   ]
  },
  {
   "cell_type": "code",
   "execution_count": 9,
   "metadata": {},
   "outputs": [
    {
     "name": "stdout",
     "output_type": "stream",
     "text": [
      "[<Record Brewery='Sierra Nevada Brewing Co.' Reviews=175161>]\n"
     ]
    }
   ],
   "source": [
    "# B)\n",
    "\n",
    "# Firsy we need to connect each brewery with the beers it brews, then to connect the beers to the reviews\n",
    "# Now we just need to count the number of reviews and get the name of the brewery\n",
    "# Ordering by descending order and limiting to one output gets us the brewery name with the most reviews to its beers\n",
    "# and the actual number\n",
    "\n",
    "query = \"\"\"\n",
    "        MATCH (b:BREWERIES)-[:BREWED]->(b2:BEERS)-[r:REVIEWED]->(r2:REVIEWS)  \n",
    "        RETURN b.name as Brewery,count(r) as Reviews \n",
    "        ORDER BY Reviews DESC \n",
    "        LIMIT 1\n",
    "    \"\"\"\n",
    "\n",
    "result = execute_read(driver, query)\n",
    "\n",
    "pprint(result)\n"
   ]
  },
  {
   "cell_type": "code",
   "execution_count": 10,
   "metadata": {},
   "outputs": [
    {
     "name": "stdout",
     "output_type": "stream",
     "text": [
      "[<Record Name='US' Reviews=7675804>]\n"
     ]
    }
   ],
   "source": [
    "# C)\n",
    "\n",
    "# Adding the cities in wich the breweries are located and the countries the corresponding cities are located to the previous\n",
    "# exercise, we can now check wich country has the most reviews for the beers that are brewed in breweries located in its cities\n",
    "\n",
    "query = \"\"\"\n",
    "       MATCH (c:COUNTRIES)<-[]-(c2:CITIES)<-[:IN]-(b:BREWERIES)-[:BREWED]->(b2:BEERS)-[r:REVIEWED]->(r2:REVIEWS) \n",
    "       RETURN c.name as Name,count(r) as Reviews \n",
    "       ORDER BY Reviews DESC \n",
    "       LIMIT 1\n",
    "    \"\"\"\n",
    "\n",
    "result = execute_read(driver, query)\n",
    "\n",
    "pprint(result)"
   ]
  },
  {
   "cell_type": "markdown",
   "metadata": {},
   "source": [
    "#### 3. Find the user/users that have the most shared reviews (reviews of the same beers) with the user CTJman?"
   ]
  },
  {
   "cell_type": "code",
   "execution_count": 11,
   "metadata": {},
   "outputs": [
    {
     "name": "stdout",
     "output_type": "stream",
     "text": [
      "[<Record u1.name='acurtis' Count=1428>,\n",
      " <Record u1.name='Texasfan549' Count=1257>]\n"
     ]
    }
   ],
   "source": [
    "#The user with the most shared Reviews with the user CTJam is acurtis. 1428 Reviews of the same beers\n",
    "#Basically we are counting the number of Reviews that each user did (only for the beers that CTJam Reviewed )\n",
    "query = \"\"\"\n",
    "        MATCH (u:USER {name:\"CTJman\"})<--(r:REVIEWS)<--(b:BEERS)-[c:REVIEWED]->(r1:REVIEWS)-[:POSTED]->(u1:USER)\n",
    "        RETURN  u1.name, count(c) as Count\n",
    "        order by Count desc\n",
    "        LIMIT 1\n",
    "    \"\"\"\n",
    "\n",
    "result = execute_read(driver, query)\n",
    "\n",
    "pprint(result)"
   ]
  },
  {
   "cell_type": "markdown",
   "metadata": {},
   "source": [
    "#### 4. Which Portuguese brewery has the most beers?\n"
   ]
  },
  {
   "cell_type": "code",
   "execution_count": 12,
   "metadata": {},
   "outputs": [
    {
     "name": "stdout",
     "output_type": "stream",
     "text": [
      "[<Record br.name='Dois Corvos Cervejeira' num_beers=40>]\n"
     ]
    }
   ],
   "source": [
    "# Return the name of the first brewery and the number of beers from the list with maximum beers\n",
    "# in descending order, where countries = 'PT', connecting Coutries to Cities and Cities to Breweries and Breweries to Beers.\n",
    "\n",
    "query = f\"\"\"\n",
    "        MATCH (b:BEERS)<-[:BREWED]-(br:BREWERIES)-[:IN]->(c:CITIES)-[:IN]->(co:COUNTRIES)\n",
    "        WHERE co.name = 'PT'\n",
    "        RETURN br.name, count(*) AS num_beers\n",
    "        ORDER BY num_beers DESC\n",
    "        LIMIT 1\n",
    "    \"\"\"\n",
    "\n",
    "result = execute_read(driver, query)\n",
    "\n",
    "pprint(result)\n",
    "#Answer: <Record br.name='Dois Corvos Cervejeira' num_beers=40>"
   ]
  },
  {
   "cell_type": "markdown",
   "metadata": {},
   "source": [
    "#### 5. From those beers (the ones produced in the brewery from the previous question), which has the most reviews?\n"
   ]
  },
  {
   "cell_type": "code",
   "execution_count": 13,
   "metadata": {},
   "outputs": [
    {
     "name": "stdout",
     "output_type": "stream",
     "text": [
      "[<Record b.name='Finisterra' num_reviews=10>]\n"
     ]
    }
   ],
   "source": [
    "# Return the name of the first beer and the number of reviews from the list of beers \n",
    "# from the brewery = 'Dois Corvos Cervejeira', in descending order by reviews, \n",
    "#connecting Reviews to Beers and Beers to Breweries.\n",
    "\n",
    "query = f\"\"\"\n",
    "        MATCH (c:REVIEWS)<-[:REVIEWED]-(b:BEERS)<-[:BREWED]-(br:BREWERIES)\n",
    "        WHERE br.name = 'Dois Corvos Cervejeira'\n",
    "        RETURN b.name, count(*) AS num_reviews\n",
    "        ORDER BY num_reviews DESC\n",
    "        LIMIT 1\n",
    "    \"\"\"\n",
    "\n",
    "result = execute_read(driver, query)\n",
    "\n",
    "pprint(result)\n",
    "#Answer: <Record b.name='Finisterra' num_reviews=10>"
   ]
  },
  {
   "cell_type": "markdown",
   "metadata": {},
   "source": [
    "#### 6. On average how many different beer styles does each brewery produce?"
   ]
  },
  {
   "cell_type": "code",
   "execution_count": 14,
   "metadata": {},
   "outputs": [
    {
     "name": "stdout",
     "output_type": "stream",
     "text": [
      "[<Record Average_Stiles_per_brewery=11.0>]\n"
     ]
    }
   ],
   "source": [
    "#SOLUTION1 1\n",
    "# The average unique stiles per brewery\n",
    "query = \"\"\"\n",
    "        MATCH (br:BREWERIES)-[r:BREWED]->(b:BEERS)-[hs:HAS_STYLE]->(s:STYLE)\n",
    "        with br.name as brewerie_name, count(distinct s) as Stiles\n",
    "        RETURN round(avg(Stiles)) as Average_Stiles_per_brewery\n",
    "    \"\"\"\n",
    "\n",
    "result = execute_read(driver, query)\n",
    "\n",
    "pprint(result)"
   ]
  },
  {
   "cell_type": "code",
   "execution_count": 15,
   "metadata": {},
   "outputs": [
    {
     "name": "stdout",
     "output_type": "stream",
     "text": [
      "[<Record brewerie_name='Iron Hill Brewery & Restaurant' Stiles=94>,\n",
      " <Record brewerie_name='Rock Bottom Restaurant & Brewery' Stiles=93>,\n",
      " <Record brewerie_name='Goose Island Beer Co.' Stiles=88>,\n",
      " <Record brewerie_name='Sierra Nevada Brewing Co.' Stiles=87>,\n",
      " <Record brewerie_name=\"John Harvard's Brewery & Ale House\" Stiles=86>,\n",
      " <Record brewerie_name='Cigar City Brewing' Stiles=85>,\n",
      " <Record brewerie_name='The Bruery' Stiles=84>,\n",
      " <Record brewerie_name='Boston Beer Company (Samuel Adams)' Stiles=84>,\n",
      " <Record brewerie_name='Minneapolis Town Hall Brewery' Stiles=81>,\n",
      " <Record brewerie_name='Deschutes Brewery' Stiles=81>,\n",
      " <Record brewerie_name=\"Short's Brewing Company\" Stiles=81>,\n",
      " <Record brewerie_name='Against The Grain Brewery & Smokehouse' Stiles=80>,\n",
      " <Record brewerie_name='Harpoon Brewery & Beer Hall' Stiles=80>,\n",
      " <Record brewerie_name='Kuhnhenn Brewing Company' Stiles=79>,\n",
      " <Record brewerie_name='Boston Beer Works - Canal Street' Stiles=79>,\n",
      " <Record brewerie_name='Triumph Brewing Company' Stiles=79>,\n",
      " <Record brewerie_name='Sixpoint Brewery' Stiles=79>,\n",
      " <Record brewerie_name='Mikkeller ApS' Stiles=78>,\n",
      " <Record brewerie_name='New Holland Brewing Company' Stiles=77>,\n",
      " <Record brewerie_name='The Schlafly Tap Room' Stiles=77>,\n",
      " <Record brewerie_name=\"Beau's All Natural Brewing Company\" Stiles=76>,\n",
      " <Record brewerie_name='Dogfish Head Craft Brewery' Stiles=76>,\n",
      " <Record brewerie_name='3 Floyds Brewing Co.' Stiles=75>,\n",
      " <Record brewerie_name='Pizza Port Solana Beach' Stiles=75>,\n",
      " <Record brewerie_name='Victory Brewing Company - Downingtown' Stiles=74>,\n",
      " <Record brewerie_name='Cambridge Brewing Company' Stiles=74>,\n",
      " <Record brewerie_name='Ballast Point Brewing Company' Stiles=74>,\n",
      " <Record brewerie_name='Revolution Brewing' Stiles=73>,\n",
      " <Record brewerie_name='Church Brew Works' Stiles=73>,\n",
      " <Record brewerie_name='Stone Brewing' Stiles=73>,\n",
      " <Record brewerie_name=\"Fitger's Brewhouse\" Stiles=72>,\n",
      " <Record brewerie_name='Captain Lawrence Brewing Co.' Stiles=72>,\n",
      " <Record brewerie_name='Great Lakes Brewing Co.' Stiles=72>,\n",
      " <Record brewerie_name=\"Fat Head's Brewery & Saloon\" Stiles=71>,\n",
      " <Record brewerie_name='Odell Brewing Company' Stiles=70>,\n",
      " <Record brewerie_name='Portsmouth Brewery' Stiles=70>,\n",
      " <Record brewerie_name='Great Dane Pub & Brewing Company (Downtown)' Stiles=69>,\n",
      " <Record brewerie_name='BrewDog' Stiles=69>,\n",
      " <Record brewerie_name='The Tap Brewing Company' Stiles=69>,\n",
      " <Record brewerie_name='Phantom Canyon Brewing Company' Stiles=69>,\n",
      " <Record brewerie_name='Elysian Brewing Company' Stiles=68>,\n",
      " <Record brewerie_name='Founders Brewing Company' Stiles=68>,\n",
      " <Record brewerie_name='Avery Brewing Company' Stiles=68>,\n",
      " <Record brewerie_name='Devils Backbone Brewing Company' Stiles=67>,\n",
      " <Record brewerie_name='Flossmoor Station Restaurant & Brewery' Stiles=67>,\n",
      " <Record brewerie_name='Rogue Ales' Stiles=67>,\n",
      " <Record brewerie_name='Funky Buddha Brewery' Stiles=67>,\n",
      " <Record brewerie_name='River City Brewing Co.' Stiles=66>,\n",
      " <Record brewerie_name='Zero Gravity Craft Brewery / American Flatbread' Stiles=66>,\n",
      " <Record brewerie_name='Brooklyn Brewery' Stiles=66>,\n",
      " <Record brewerie_name='Bullfrog Brewery' Stiles=66>,\n",
      " <Record brewerie_name='Sun King Brewing Company' Stiles=66>,\n",
      " <Record brewerie_name='Flat Branch Pub & Brewery' Stiles=65>,\n",
      " <Record brewerie_name=\"Fegley's Bethlehem Brew Works\" Stiles=65>,\n",
      " <Record brewerie_name=\"Emmett's Brewing Company\" Stiles=65>,\n",
      " <Record brewerie_name=\"Natty Greene's Pub & Brewing Co.\" Stiles=65>,\n",
      " <Record brewerie_name='Flying Dog Brewery' Stiles=65>,\n",
      " <Record brewerie_name='Brouwerij De Molen' Stiles=65>,\n",
      " <Record brewerie_name='Imperial Oak Brewing' Stiles=65>,\n",
      " <Record brewerie_name='Appalachian Brewing Company' Stiles=64>,\n",
      " <Record brewerie_name='Karl Strauss Brewing Company' Stiles=64>,\n",
      " <Record brewerie_name='Amsterdam Brewing Company' Stiles=64>,\n",
      " <Record brewerie_name='Midnight Sun Brewing Co.' Stiles=64>,\n",
      " <Record brewerie_name='Coronado Brewing Company' Stiles=64>,\n",
      " <Record brewerie_name='DESTIHL Brewery' Stiles=63>,\n",
      " <Record brewerie_name='Night Shift Brewing' Stiles=63>,\n",
      " <Record brewerie_name='Sly Fox Brewing Company' Stiles=63>,\n",
      " <Record brewerie_name='Brasserie Dieu du Ciel!' Stiles=63>,\n",
      " <Record brewerie_name=\"Drake's Brewing Co.\" Stiles=63>,\n",
      " <Record brewerie_name='Breakside Brewery' Stiles=63>,\n",
      " <Record brewerie_name='Great Lakes Brewery' Stiles=63>,\n",
      " <Record brewerie_name='Tired Hands Brewing Company' Stiles=63>,\n",
      " <Record brewerie_name='Oskar Blues Grill & Brew' Stiles=63>,\n",
      " <Record brewerie_name='Tröegs Brewing Company' Stiles=62>,\n",
      " <Record brewerie_name='Snake River Brewing Company & Brewpub' Stiles=62>,\n",
      " <Record brewerie_name='Columbia Kettle Works' Stiles=61>,\n",
      " <Record brewerie_name='Brewsters Brewing Company & Restaurant - Oliver Square' Stiles=61>,\n",
      " <Record brewerie_name='New Belgium Brewing' Stiles=61>,\n",
      " <Record brewerie_name='Southampton Publick House' Stiles=61>,\n",
      " <Record brewerie_name='DryHop Brewers' Stiles=61>,\n",
      " <Record brewerie_name='Magic Hat Brewing Company' Stiles=61>,\n",
      " <Record brewerie_name='Parallel 49 Brewing Company' Stiles=61>,\n",
      " <Record brewerie_name='Mill Street Brew Pub' Stiles=60>,\n",
      " <Record brewerie_name='The Cambridge House Brewpub' Stiles=60>,\n",
      " <Record brewerie_name='The Livery' Stiles=60>,\n",
      " <Record brewerie_name='Widmer Brothers Brewing Company' Stiles=60>,\n",
      " <Record brewerie_name='La Cumbre Brewing Co.' Stiles=60>,\n",
      " <Record brewerie_name=\"Jackie O's Pub & Brewery\" Stiles=60>,\n",
      " <Record brewerie_name='Bear Republic Brewing Co.' Stiles=60>,\n",
      " <Record brewerie_name='10 Barrel Brewing Co.' Stiles=60>,\n",
      " <Record brewerie_name='City Steam Brewery Café' Stiles=59>,\n",
      " <Record brewerie_name='Mountain Sun Pub & Brewery' Stiles=59>,\n",
      " <Record brewerie_name='Dry Dock Brewing Co.' Stiles=59>,\n",
      " <Record brewerie_name='Smuttynose Brewing Company' Stiles=59>,\n",
      " <Record brewerie_name='Weyerbacher Brewing Co.' Stiles=59>,\n",
      " <Record brewerie_name='West Sixth Brewing Company' Stiles=59>,\n",
      " <Record brewerie_name='Upright Brewing Company' Stiles=59>,\n",
      " <Record brewerie_name=\"Bluegrass Brewing Co. - East St. Matthew's\" Stiles=59>,\n",
      " <Record brewerie_name='Highland Brewing' Stiles=59>,\n",
      " <Record brewerie_name=\"Otto's Pub and Brewery\" Stiles=59>]\n"
     ]
    }
   ],
   "source": [
    "#SOLUTION 2\n",
    "# The numbers of uniques stiles per each brewery\n",
    "query = \"\"\"\n",
    "        MATCH (br:BREWERIES)-[r:BREWED]->(b:BEERS)-[hs:HAS_STYLE]->(s:STYLE)\n",
    "        RETURN br.name as brewerie_name, count(distinct s) as Stiles\n",
    "        Order by Stiles desc\n",
    "        LIMIT 100\n",
    "    \"\"\"\n",
    "\n",
    "result = execute_read(driver, query)\n",
    "\n",
    "pprint(result)"
   ]
  },
  {
   "cell_type": "markdown",
   "metadata": {},
   "source": [
    "#### 7. Which brewery produces the strongest beers according to ABV?"
   ]
  },
  {
   "cell_type": "code",
   "execution_count": 16,
   "metadata": {},
   "outputs": [
    {
     "name": "stdout",
     "output_type": "stream",
     "text": [
      "[<Record ABV='9.99' Brewery_name='Unlawful Assembly Brewing Co.' Beer_name='Double Justice'>,\n",
      " <Record ABV='9.99' Brewery_name='Little Spokane Brewing Company' Beer_name='Bull Moose'>,\n",
      " <Record ABV='9.99' Brewery_name='Adroit Theory Brewing Company' Beer_name='BLVCK Celebration- Maple Whiskey'>,\n",
      " <Record ABV='9.99' Brewery_name='Adroit Theory Brewing Company' Beer_name='BLVCK Celebration- Rum Barrel'>,\n",
      " <Record ABV='9.99' Brewery_name='Platt Park Brewing Company' Beer_name=\"King's Jewels Double IPA\">,\n",
      " <Record ABV='9.99' Brewery_name='Tanker' Beer_name='Tanker/Mean Sardine Surf Wax'>,\n",
      " <Record ABV='9.99' Brewery_name='New Belgium Brewing' Beer_name='Imperial Cascadian'>,\n",
      " <Record ABV='9.99' Brewery_name='Brouwerij Bryggja' Beer_name='Mysticum Cosmic Tripel'>,\n",
      " <Record ABV='9.99' Brewery_name='Adroit Theory Brewing Company' Beer_name='BLVCK Celebration - Oreo Cookie (Ghost 648)'>,\n",
      " <Record ABV='9.99' Brewery_name='Adroit Theory Brewing Company' Beer_name='BLVCK Celebration: Dark Chocolate & Cocoa (Ghost 388)'>]\n"
     ]
    }
   ],
   "source": [
    "# The strongest beer, with the highest ABV possible of 9.99 is ‘Double Justice’ produced by the brewery \n",
    "#‘Unlawful Assembly Brewing Co.’\n",
    "\n",
    "query = \"\"\"\n",
    "        MATCH (br:BREWERIES)-[r:BREWED]->(b:BEERS)\n",
    "        WHERE b.abv  <> 'nan'\n",
    "        RETURN b.abv as ABV, br.name as Brewery_name, b.name as Beer_name\n",
    "        Order by b.abv DESC\n",
    "        LIMIT 10\n",
    "    \"\"\"\n",
    "\n",
    "result = execute_read(driver, query)\n",
    "\n",
    "pprint(result)"
   ]
  },
  {
   "cell_type": "markdown",
   "metadata": {},
   "source": [
    "#### 8. If I typically enjoy a beer due to its aroma and appearance, which beer style should I try?"
   ]
  },
  {
   "cell_type": "code",
   "execution_count": 17,
   "metadata": {},
   "outputs": [
    {
     "name": "stdout",
     "output_type": "stream",
     "text": [
      "[<Record Name='New England IPA' aroma=4.413614764761178 appearance=4.383595613210877>,\n",
      " <Record Name='American Imperial Stout' aroma=4.262885690516247 appearance=4.286394107776094>,\n",
      " <Record Name='Belgian Gueuze' aroma=4.230876612146052 appearance=4.17496417453178>]\n"
     ]
    }
   ],
   "source": [
    "#We consider that the beer recommended should be the beer with the maximum average of smell and look on the reviews.\n",
    "# Return the name of the beer style and the average of its´reviews smell and look. For that, we linked the reviews to the \n",
    "# beers and the beers to the style. We also converted the attributes smell and look from string to float and consider only\n",
    "# the attributes not null. In the end, we returned the list by descending order of the attributes of style.\n",
    "\n",
    "query = f\"\"\"\n",
    "        MATCH (rv:REVIEWS)<-[:REVIEWED]-(b:BEERS)-[r:HAS_STYLE]->(s:STYLE)\n",
    "        WITH AVG(TOFLOAT(rv.smell)) AS aroma, AVG(TOFLOAT(rv.look)) AS appearance, s\n",
    "        WHERE aroma IS NOT NULL AND appearance IS NOT NULL\n",
    "        RETURN s.name AS Name, aroma, appearance\n",
    "        ORDER BY aroma DESC, appearance DESC\n",
    "        LIMIT 3\n",
    "    \"\"\"\n",
    "\n",
    "result = execute_read(driver, query)\n",
    "\n",
    "pprint(result)     \n",
    "#Answer: <Record Name='New England IPA' aroma=4.413614764761178 appearance=4.383595613210877>"
   ]
  },
  {
   "cell_type": "markdown",
   "metadata": {},
   "source": [
    "#### 9. Using Graph Algorithms answer **one** of the following questions:\n",
    "    1. Which two countries are most similiar when it comes to their **top 10** most produced Beer styles?\n",
    "    2. Which beer is the most influential when considering beers are conected by users who review them?\n",
    "    3. Users are connected together by their reviews to beers, taking into consideration the \"overall\" score they review as a weight, how many communities are formed from these relationships? How many users has the biggest community?"
   ]
  },
  {
   "cell_type": "code",
   "execution_count": 18,
   "metadata": {},
   "outputs": [
    {
     "name": "stdout",
     "output_type": "stream",
     "text": [
      "ClientError(\"Failed to invoke procedure `gds.graph.project.cypher`: Caused by: java.lang.IllegalArgumentException: A graph with name 'example_1' already exists.\")\n"
     ]
    }
   ],
   "source": [
    "# Question 9.1 \"Which two countries are most similiar when it comes to their **top 10** most produced Beer styles?\"\n",
    "\n",
    "# To find out which 2 countries are most similar when it comes to their \"top 10\" most produced Beer Styles, we first need to\n",
    "# find the top 10 most produced Beer styles for each country.\n",
    "# To do that, we first checked how many different Beers each country produce and the respective Beer Style for each one of \n",
    "# Beers. To find out the top 10, since we already have the Beer Styles that each country produce we just need to count how \n",
    "# many times each Style appears. The 10 Beer Styles with hihger frequency are considered the \"top 10\" most produced.\n",
    "\n",
    "# For this type of comparison, we did not consider the countries that produce less than 10 different Beer Styles. \n",
    "# So countries with per example just 9 types of Beer Style were not considered.\n",
    "# We put this condition to avoid cases where 2 countries only with 1 type of Beer Style produced of having a similiraty of 1.\n",
    "\n",
    "# Step 1 - Create an appropriate graph\n",
    "try:\n",
    "    query = \"\"\"\n",
    "        CALL gds.graph.project.cypher(\n",
    "            'example_1',\n",
    "      'MATCH (n) WHERE n:COUNTRIES OR n:STYLE RETURN id(n) AS id, labels(n) AS labels',\n",
    "      '        MATCH (c:COUNTRIES)<-[]-(CITIES)<-[]-(BREWERIES)-[]->(BEERS)-[]->(s:STYLE)\n",
    "        WITH c, count (distinct s.name) as nomes\n",
    "        WHERE nomes>9\n",
    "        MATCH (c:COUNTRIES)<-[]-(CITIES)<-[]-(BREWERIES)-[]->(BEERS)-[]->(s:STYLE)\n",
    "        WITH c,s,count(s.name) as count, count (distinct s.name) as sitios\n",
    "        ORDER BY c,count DESC\n",
    "        WITH COLLECT (id(s)) as nomes,c\n",
    "        WITH id(c) as source,  nomes[..10] as target_1\n",
    "        UNWIND target_1 as target        \n",
    "        RETURN  source,target') \n",
    "\n",
    "        \"\"\"\n",
    "\n",
    "    result = execute_read(driver, query)\n",
    "\n",
    "    pprint(result)\n",
    "except Exception as e:\n",
    "    pprint(e)"
   ]
  },
  {
   "cell_type": "code",
   "execution_count": 19,
   "metadata": {},
   "outputs": [
    {
     "name": "stdout",
     "output_type": "stream",
     "text": [
      "[<Record User1='AU' User2='NZ' similarity=1.0>]\n"
     ]
    }
   ],
   "source": [
    "# Step 2 - Run the algorithm\n",
    "\n",
    "# Since we want the most similar Countries we have to order by similarity (with the highest on top)\n",
    "# Based on th results we can say that the 2 most similar Countries in terms of their \"top 10\" most Beer Styles produced\n",
    "# are 'AU (Australia)' and 'NZ (New Zealand)' with similarity of 1.\n",
    "\n",
    "try:\n",
    "    query = \"\"\"\n",
    "        CALL gds.nodeSimilarity.stream('example_1',{})\n",
    "            YIELD node1, node2, similarity\n",
    "            with gds.util.asNode(node1).name AS User1, gds.util.asNode(node2).name AS User2, similarity\n",
    "            RETURN User1, User2, similarity\n",
    "            ORDER BY similarity DESCENDING \n",
    "            limit 1\n",
    "        \"\"\"\n",
    "\n",
    "    result = execute_read(driver, query)\n",
    "\n",
    "    pprint(result)\n",
    "except Exception as e:\n",
    "    pprint(e)"
   ]
  },
  {
   "cell_type": "markdown",
   "metadata": {},
   "source": [
    "#### 10. Using Graph Algorithms answer **one** of the following questions:\n",
    "    1. Which beer has the most similar reviews as the beer `Super Bock Stout`?\n",
    "    2. Which user is the most influential when it comes to reviews made?"
   ]
  },
  {
   "cell_type": "code",
   "execution_count": 21,
   "metadata": {},
   "outputs": [
    {
     "name": "stdout",
     "output_type": "stream",
     "text": [
      "[]\n"
     ]
    }
   ],
   "source": [
    "# 10.1 - First we try to apply the Node Similarity algorithm but it gave us always problems with the available space to run it.\n",
    "# We even try to limit our queries however it could decrease its accuracy. So because of this we manage to answer this question\n",
    "# using another graph algorithm.\n",
    "\n",
    "# We will reply to 10.1 returning the beer most similar to `Super Bock Stout` based on the average of the 'overall' attribute \n",
    "# from REVIEWS' nodes connected to each beer, using Graph Algorithms.\n",
    "\n",
    "# Create a property in the BEERS nodes with the average of the attribute \"overall\" of all REVIEWS nodes connected to that beer.\n",
    "# Convert to Float the String \"overall\" attribute on REVIEWS.\n",
    "query = f\"\"\"\n",
    "        MATCH (b:BEERS)-[:REVIEWED]->(r:REVIEWS)\n",
    "        WITH b, avg(toFloat(r.overall)) AS avgOverall     \n",
    "        SET b.avgOverall = avgOverall\n",
    "    \"\"\"\n",
    "\n",
    "result = execute_write(driver, query)\n",
    "\n",
    "pprint(result)   "
   ]
  },
  {
   "cell_type": "code",
   "execution_count": 22,
   "metadata": {},
   "outputs": [
    {
     "name": "stdout",
     "output_type": "stream",
     "text": [
      "[<Record b.avgOverall=3.061320754716981>]\n"
     ]
    }
   ],
   "source": [
    "# For curiosity purposes only, check the average Overall of all the reviews connected to Super Bock Stout beer.\n",
    "try:\n",
    "    query = \"\"\"\n",
    "            MATCH (b:BEERS {name: 'Super Bock Stout'})\n",
    "            RETURN b.avgOverall\n",
    "        \"\"\"\n",
    "\n",
    "    result = execute_read(driver, query)\n",
    "\n",
    "    pprint(result)\n",
    "except Exception as e:\n",
    "    pprint(e)"
   ]
  },
  {
   "cell_type": "code",
   "execution_count": 23,
   "metadata": {},
   "outputs": [
    {
     "name": "stdout",
     "output_type": "stream",
     "text": [
      "ClientError(\"Failed to invoke procedure `gds.graph.project`: Caused by: java.lang.IllegalArgumentException: A graph with name 'KNN' already exists.\")\n"
     ]
    }
   ],
   "source": [
    "# Create an appropriate graph called 'KNN' with only the node 'BEERS' and the property 'avgOverall' just created.\n",
    "\n",
    "try:\n",
    "    query = \"\"\"\n",
    "            CALL gds.graph.project(\n",
    "                'KNN',\n",
    "                {\n",
    "                    BEERS: {\n",
    "                        properties: ['avgOverall']\n",
    "                    }\n",
    "                },\n",
    "                '*'\n",
    "            );\n",
    "        \"\"\"\n",
    "\n",
    "    result = execute_read(driver, query)\n",
    "\n",
    "    pprint(result)\n",
    "except Exception as e:\n",
    "    pprint(e)\n"
   ]
  },
  {
   "cell_type": "code",
   "execution_count": 24,
   "metadata": {},
   "outputs": [
    {
     "name": "stdout",
     "output_type": "stream",
     "text": [
      "[<Record COUNT(b)=358873>]\n"
     ]
    }
   ],
   "source": [
    "# From the cell above we can see that the graph is considering 358.873 nodes.\n",
    "# So, now let´s count how many BEERS' nodes there are in our dataset, to ensure that we will compare 'Super Bock Stout' with\n",
    "#all beers\n",
    "query = f\"\"\"\n",
    "        MATCH (b:BEERS)\n",
    "        RETURN COUNT(b)\n",
    "    \"\"\"\n",
    "\n",
    "result = execute_write(driver, query)\n",
    "\n",
    "pprint(result)  \n",
    "\n",
    "# 358873 = 358873"
   ]
  },
  {
   "cell_type": "code",
   "execution_count": 25,
   "metadata": {},
   "outputs": [
    {
     "name": "stdout",
     "output_type": "stream",
     "text": [
      "[<Record Person1='Super Bock Stout' Person2='Soproni' similarity=0.9994903160040784>,\n",
      " <Record Person1='Super Bock Stout' Person2='Bavaria NA' similarity=0.9988221436984692>,\n",
      " <Record Person1='Super Bock Stout' Person2='Ellis Island Hefe Weiss' similarity=0.9988221436984692>,\n",
      " <Record Person1='Super Bock Stout' Person2='Pivotal Porter (Barrel Aged)' similarity=0.9988221436984692>,\n",
      " <Record Person1='Super Bock Stout' Person2=\"'naBIO\" similarity=0.9988221436984688>,\n",
      " <Record Person1='Super Bock Stout' Person2=\"Esser's Anniversary Ale\" similarity=0.9988221436984688>,\n",
      " <Record Person1='Super Bock Stout' Person2=\"Harrington's East Indies Lager\" similarity=0.9988221436984688>,\n",
      " <Record Person1='Super Bock Stout' Person2='Project One Ale' similarity=0.9988221436984688>,\n",
      " <Record Person1='Super Bock Stout' Person2='Soulless Black Saison' similarity=0.9988221436984688>,\n",
      " <Record Person1='Super Bock Stout' Person2='Stoute Liefde' similarity=0.9988221436984688>]\n"
     ]
    }
   ],
   "source": [
    "# Now using the graph created, we apply the KNN algorithm returning only the 10th nodes most similar (topK:10) based on the \n",
    "# attribute 'avgOverall'. We set a random Seed to control the randomness of the algorithm, which implies to set concurrency to 1.\n",
    "# We set Sample rate to = 1 to include all number of comparisons per node. And set deltaThreshold to 0 to don't stop the algorithm earlier.\n",
    "\n",
    "#Then we yield the first node as 'Super Bock Stout' and the list of beers most similar to this one as well as the similarity\n",
    "#score, by descending order and answer is the first beer that appears.\n",
    "try:\n",
    "    query = \"\"\"\n",
    "            CALL gds.knn.stream('KNN', {\n",
    "                topK: 10,\n",
    "                nodeProperties: ['avgOverall'],\n",
    "                randomSeed: 1337,\n",
    "                concurrency: 1,\n",
    "                sampleRate: 1.0,\n",
    "                deltaThreshold: 0.0\n",
    "            })\n",
    "            YIELD node1, node2, similarity\n",
    "            WHERE gds.util.asNode(node1).name = 'Super Bock Stout'\n",
    "            RETURN gds.util.asNode(node1).name AS Person1, gds.util.asNode(node2).name AS Person2, similarity\n",
    "            ORDER BY similarity DESCENDING, Person1, Person2\n",
    "        \"\"\"\n",
    "\n",
    "    result = execute_read(driver, query)\n",
    "\n",
    "    pprint(result)\n",
    "except Exception as e:\n",
    "    pprint(e)\n",
    "    \n",
    "#Answer :'Soproni'  with similarity = 0.9994903160040784>"
   ]
  },
  {
   "cell_type": "markdown",
   "metadata": {},
   "source": [
    "#### 11. If you had to pick 3 beers to recommend using only this database, which would you pick and why?"
   ]
  },
  {
   "cell_type": "markdown",
   "metadata": {},
   "source": [
    "### To answer this qustion we proposed 4 different way to recommend a beer:\n",
    "##### 1st the most popular beer (with more reviews): 'IPA'\n",
    "    Note_1: popular doesn't mean good\n",
    "##### 2nd the beer with highest average reviews: 'O.W.K.'\n",
    "    Note_2: the beers with 5 stars thend to have few reviews\n",
    "##### 3rd the most reviewd beer with at least 4 as average review: 'Imperial Stout'\n",
    "    Note_3: The beer is relatively good and well known\n",
    "##### 4th The beer with higest average reviews and at least 100 reviews: 'Good Morning'\n",
    "    Note_4: This is the best beer with at least 100 reviews to confirm it"
   ]
  },
  {
   "cell_type": "code",
   "execution_count": 27,
   "metadata": {},
   "outputs": [
    {
     "name": "stdout",
     "output_type": "stream",
     "text": [
      "[<Record beer_name='IPA' Reviews=16527 Avg_review=3.991090337024293>,\n",
      " <Record beer_name='Porter' Reviews=10900 Avg_review=3.991720183486247>,\n",
      " <Record beer_name='Imperial Stout' Reviews=10176 Avg_review=4.133451257861628>]\n"
     ]
    }
   ],
   "source": [
    "#SOLUTION 1\n",
    "#Beer with the most reviews\n",
    "query = \"\"\"\n",
    "        MATCH (b:BEERS)-[r:REVIEWED]->(re:REVIEWS)\n",
    "        WHERE re.overall  <> 'nan' AND toFloat(re.overall) > 0\n",
    "        RETURN b.name as beer_name, count(r) as Reviews, AVG(toFloat(re.overall)) as Avg_review\n",
    "        Order by Reviews desc, Avg_review desc\n",
    "        LIMIT 3\n",
    "    \"\"\"\n",
    "\n",
    "result = execute_read(driver, query)\n",
    "\n",
    "pprint(result)"
   ]
  },
  {
   "cell_type": "code",
   "execution_count": 28,
   "metadata": {},
   "outputs": [
    {
     "name": "stdout",
     "output_type": "stream",
     "text": [
      "[<Record beer_name='O.W.K.' Avg_review=5.0 Reviews=7>,\n",
      " <Record beer_name='Big Hefe' Avg_review=5.0 Reviews=5>,\n",
      " <Record beer_name='Batch Two' Avg_review=5.0 Reviews=4>]\n"
     ]
    }
   ],
   "source": [
    "#SOLUTION 2\n",
    "#Beers with the highest average reviews\n",
    "query = \"\"\"\n",
    "        MATCH (b:BEERS)-[r:REVIEWED]->(re:REVIEWS)\n",
    "        WHERE re.overall  <> 'nan' AND toFloat(re.overall) > 0\n",
    "        WITH b.name as beer_name, round(AVG(toFloat(re.overall)),1) as Avg_review, Count(r) as Reviews\n",
    "        RETURN beer_name, Avg_review, Reviews\n",
    "        Order by Avg_review desc, Reviews desc\n",
    "        LIMIT 3\n",
    "    \"\"\"\n",
    "\n",
    "result = execute_read(driver, query)\n",
    "\n",
    "pprint(result)"
   ]
  },
  {
   "cell_type": "code",
   "execution_count": 29,
   "metadata": {},
   "outputs": [
    {
     "name": "stdout",
     "output_type": "stream",
     "text": [
      "[<Record beer_name='Imperial Stout' round(Avg_review,1)=4.1 Reviews=10176>,\n",
      " <Record beer_name='Breakfast Stout' round(Avg_review,1)=4.4 Reviews=7663>,\n",
      " <Record beer_name='KBS (Kentucky Breakfast Stout)' round(Avg_review,1)=4.5 Reviews=7042>]\n"
     ]
    }
   ],
   "source": [
    "#SOLUTION 3\n",
    "#Beers with the most reviews and an average of 4 or more\n",
    "query = \"\"\"\n",
    "        MATCH (b:BEERS)-[r:REVIEWED]->(re:REVIEWS)\n",
    "        WHERE re.overall  <> 'nan' AND toFloat(re.overall) > 0\n",
    "        WITH b.name as beer_name, count(r) as Reviews, AVG(toFloat(re.overall)) as Avg_review\n",
    "        WHERE Avg_review >=4\n",
    "        RETURN beer_name, round(Avg_review,1), Reviews\n",
    "        Order by Reviews desc, Avg_review desc\n",
    "        LIMIT 3\n",
    "    \"\"\"\n",
    "\n",
    "result = execute_read(driver, query)\n",
    "\n",
    "pprint(result)"
   ]
  },
  {
   "cell_type": "code",
   "execution_count": 30,
   "metadata": {},
   "outputs": [
    {
     "name": "stdout",
     "output_type": "stream",
     "text": [
      "[<Record Average_reviews_per_beer=4.0>]\n"
     ]
    }
   ],
   "source": [
    "# #Undesrtand the average number of reviews per beer\n",
    "# query = \"\"\"\n",
    "#         MATCH (b:BEERS)-[r:REVIEWED]->(re:REVIEWS)\n",
    "#         WHERE re.overall  <> 'nan'AND toFloat(re.overall) > 0\n",
    "#         WITH b.name as beer_name, count(r) as Reviews, AVG(toFloat(re.overall)) as Avg_review\n",
    "#         RETURN round(avg(Avg_review)) as Average_reviews_per_beer\n",
    "#         LIMIT 3\n",
    "#     \"\"\"\n",
    "\n",
    "# result = execute_read(driver, query)\n",
    "\n",
    "# pprint(result)\n",
    "\n",
    "# #The average is 4, for solution 4 we will choose at least 100 reviews due to the lowest average per beer\n",
    "#     #(we want to have a beer with enouth reviews)"
   ]
  },
  {
   "cell_type": "code",
   "execution_count": 31,
   "metadata": {},
   "outputs": [
    {
     "name": "stdout",
     "output_type": "stream",
     "text": [
      "[<Record beer_name='Good Morning' Avg_review=4.8 Reviews=918>,\n",
      " <Record beer_name='Kentucky Brunch Brand Stout' Avg_review=4.8 Reviews=434>,\n",
      " <Record beer_name='R&D Sour Fruit (Very Sour Blackberry)' Avg_review=4.8 Reviews=114>]\n"
     ]
    }
   ],
   "source": [
    "#SOLUTION 4\n",
    "#Beers with the highest average reviews with at least 100 reviews\n",
    "query = \"\"\"\n",
    "        MATCH (b:BEERS)-[r:REVIEWED]->(re:REVIEWS)\n",
    "        WHERE re.overall  <> 'nan' AND toFloat(re.overall) > 0\n",
    "        WITH b.name as beer_name, round(AVG(toFloat(re.overall)),1) as Avg_review, Count(r) as Reviews\n",
    "        WHERE Reviews >= 100\n",
    "        RETURN beer_name, Avg_review, Reviews\n",
    "        Order by Avg_review desc, Reviews desc\n",
    "        LIMIT 3\n",
    "    \"\"\"\n",
    "\n",
    "result = execute_read(driver, query)\n",
    "\n",
    "pprint(result)"
   ]
  }
 ],
 "metadata": {
  "hide_input": false,
  "kernelspec": {
   "display_name": "Python 3 (ipykernel)",
   "language": "python",
   "name": "python3"
  },
  "language_info": {
   "codemirror_mode": {
    "name": "ipython",
    "version": 3
   },
   "file_extension": ".py",
   "mimetype": "text/x-python",
   "name": "python",
   "nbconvert_exporter": "python",
   "pygments_lexer": "ipython3",
   "version": "3.9.12"
  },
  "toc": {
   "base_numbering": 1,
   "nav_menu": {},
   "number_sections": true,
   "sideBar": true,
   "skip_h1_title": false,
   "title_cell": "Table of Contents",
   "title_sidebar": "Contents",
   "toc_cell": false,
   "toc_position": {},
   "toc_section_display": true,
   "toc_window_display": false
  },
  "varInspector": {
   "cols": {
    "lenName": 16,
    "lenType": 16,
    "lenVar": 40
   },
   "kernels_config": {
    "python": {
     "delete_cmd_postfix": "",
     "delete_cmd_prefix": "del ",
     "library": "var_list.py",
     "varRefreshCmd": "print(var_dic_list())"
    },
    "r": {
     "delete_cmd_postfix": ") ",
     "delete_cmd_prefix": "rm(",
     "library": "var_list.r",
     "varRefreshCmd": "cat(var_dic_list()) "
    }
   },
   "types_to_exclude": [
    "module",
    "function",
    "builtin_function_or_method",
    "instance",
    "_Feature"
   ],
   "window_display": false
  }
 },
 "nbformat": 4,
 "nbformat_minor": 4
}
